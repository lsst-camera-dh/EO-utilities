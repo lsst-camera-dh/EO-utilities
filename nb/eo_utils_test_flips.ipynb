{
 "cells": [
  {
   "cell_type": "markdown",
   "metadata": {},
   "source": [
    "Import the stuff we will need"
   ]
  },
  {
   "cell_type": "code",
   "execution_count": null,
   "metadata": {},
   "outputs": [],
   "source": [
    "import numpy as np\n",
    "from lsst.daf.persistence import Butler\n",
    "from lsst.eotest.sensor import MaskedCCD, makeAmplifierGeometry\n",
    "from lsst.eo_utils.base.image_utils import get_ccd_from_id,\\\n",
    "    get_amp_list, get_data_as_read"
   ]
  },
  {
   "cell_type": "markdown",
   "metadata": {},
   "source": [
    "Define a function to test that we got the orientation correct"
   ]
  },
  {
   "cell_type": "code",
   "execution_count": null,
   "metadata": {},
   "outputs": [],
   "source": [
    "def test_flips(bulter, exp, ccd, vendor):\n",
    "    amps_det = get_amp_list(butler, exp)\n",
    "    amps_ccd = get_amp_list(None, ccd)\n",
    "    nfail = 0\n",
    "    for amp_det, amp_ccd in zip(amps_det, amps_ccd):\n",
    "        ff_det = get_data_as_read(butler, exp, amp_det)\n",
    "        ff_ccd = get_data_as_read(None, ccd, amp_ccd)\n",
    "\n",
    "        diff_i = ff_det['imaging'] - ff_ccd['imaging']\n",
    "        if (np.abs(diff_i) > 0).any():\n",
    "            print(\"Failed %s imaging for amp %i\" % (vendor, amp_det))\n",
    "            nfail += 1\n",
    "\n",
    "        diff_p = ff_det['parallel_overscan'] - ff_ccd['parallel_overscan'][:,:-1]\n",
    "        if (np.abs(diff_p) > 0).any():\n",
    "            print(\"Failed %s parallel overscan for amp %i\" % (vendor, amp_det))\n",
    "            nfail += 1\n",
    "\n",
    "        diff_s = ff_det['serial_overscan'][0:2000] - ff_ccd['serial_overscan'][0:2000]\n",
    "        if (np.abs(diff_s) > 0).any():\n",
    "            print(\"Failed %s parallel overscan for amp %i\" % (vendor, amp_det))\n",
    "            nfail += 1\n",
    "\n",
    "    return nfail              "
   ]
  },
  {
   "cell_type": "code",
   "execution_count": null,
   "metadata": {},
   "outputs": [],
   "source": [
    "# Set the path to the Butler repository and import a Butler\n",
    "repo_path = \"/gpfs/slac/lsst/fs3/g/data/datasets/ts8\"\n",
    "butler = Butler(repo_path)"
   ]
  },
  {
   "cell_type": "code",
   "execution_count": null,
   "metadata": {},
   "outputs": [],
   "source": [
    "# Get a dataId for the first bias frame for a FE55 run\n",
    "incompleteDataId_itl = dict(run='6106D', imageType='BIAS', testType='FE55', detectorName='S00')\n",
    "incompleteDataId_e2v = dict(run='6006D', imageType='BIAS', testType='FE55', detectorName='S00')\n",
    "ss_itl = butler.subset('raw', '', incompleteDataId_itl)\n",
    "ss_e2v = butler.subset('raw', '', incompleteDataId_e2v)\n",
    "dataId_itl = ss_itl.cache[0]\n",
    "dataId_e2v = ss_e2v.cache[0]"
   ]
  },
  {
   "cell_type": "code",
   "execution_count": null,
   "metadata": {},
   "outputs": [],
   "source": [
    "dataId_itl"
   ]
  },
  {
   "cell_type": "code",
   "execution_count": null,
   "metadata": {},
   "outputs": [],
   "source": [
    "# Specify the corresponding file\n",
    "fname_itl = '/gpfs/slac/lsst/fs1/g/data/jobHarness/jh_archive-test/LCA-11021_RTM/LCA-11021_RTM-004-Dev/6106D/fe55_raft_acq/v0/41316/S00/ITL-3800C-381-Dev_fe55_bias_000_6106D_20180825170428.fits'\n",
    "fname_e2v = '/gpfs/slac/lsst/fs1/g/data/jobHarness/jh_archive-test/LCA-11021_RTM/LCA-11021_RTM-010-Dev/6006D/fe55_raft_acq/v0/40509/S00/E2V-CCD250-266-Dev_fe55_bias_000_6006D_20180724054018.fits'"
   ]
  },
  {
   "cell_type": "code",
   "execution_count": null,
   "metadata": {},
   "outputs": [],
   "source": [
    "# Get the data using the Butler, and using MaskedCCD, for both ITL and E2V\n",
    "exp_e2v = get_ccd_from_id(butler, dataId_e2v, [])\n",
    "ccd_e2v = get_ccd_from_id(None, fname_e2v, [])\n",
    "\n",
    "exp_itl = get_ccd_from_id(butler, dataId_itl, [])\n",
    "ccd_itl = get_ccd_from_id(None, fname_itl, [])"
   ]
  },
  {
   "cell_type": "code",
   "execution_count": null,
   "metadata": {},
   "outputs": [],
   "source": [
    "nfail_e2v = test_flips(butler, exp_e2v, ccd_e2v, \"e2v\")\n",
    "nfail_itl = test_flips(butler, exp_itl, ccd_itl, \"itl\")"
   ]
  },
  {
   "cell_type": "code",
   "execution_count": null,
   "metadata": {},
   "outputs": [],
   "source": [
    "if nfail_e2v + nfail_itl == 0:\n",
    "    print(\"Success!\")\n",
    "else:\n",
    "    print(\"Failures: %i e2v, %i itl.\" % (nfail_e2v, nfail_itl) )"
   ]
  },
  {
   "cell_type": "code",
   "execution_count": null,
   "metadata": {},
   "outputs": [],
   "source": []
  },
  {
   "cell_type": "code",
   "execution_count": null,
   "metadata": {},
   "outputs": [],
   "source": []
  }
 ],
 "metadata": {
  "kernelspec": {
   "display_name": "Python 3",
   "language": "python",
   "name": "python3"
  },
  "language_info": {
   "codemirror_mode": {
    "name": "ipython",
    "version": 3
   },
   "file_extension": ".py",
   "mimetype": "text/x-python",
   "name": "python",
   "nbconvert_exporter": "python",
   "pygments_lexer": "ipython3",
   "version": "3.6.6"
  }
 },
 "nbformat": 4,
 "nbformat_minor": 2
}
