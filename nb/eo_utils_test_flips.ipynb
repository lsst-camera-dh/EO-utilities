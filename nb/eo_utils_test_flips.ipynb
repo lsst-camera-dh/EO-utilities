{
 "cells": [
  {
   "cell_type": "markdown",
   "metadata": {},
   "source": [
    "Import the stuff we will need"
   ]
  },
  {
   "cell_type": "code",
   "execution_count": null,
   "metadata": {},
   "outputs": [],
   "source": [
    "import numpy as np\n",
    "from lsst.eotest.sensor import MaskedCCD, makeAmplifierGeometry\n",
    "from lsst.eo_utils.base.butler_utils import get_butler_by_repo\n",
    "from lsst.eo_utils.base.image_utils import get_ccd_from_id,\\\n",
    "    get_amp_list, get_data_as_read"
   ]
  },
  {
   "cell_type": "markdown",
   "metadata": {},
   "source": [
    "Define a function to test that we got the orientation correct"
   ]
  },
  {
   "cell_type": "code",
   "execution_count": null,
   "metadata": {},
   "outputs": [],
   "source": [
    "def test_flips(exp, ccd, vendor):\n",
    "    amps_det = get_amp_list(exp)\n",
    "    amps_ccd = get_amp_list(ccd)\n",
    "    nfail = 0\n",
    "    for amp_det, amp_ccd in zip(amps_det, amps_ccd):\n",
    "        ff_det = get_data_as_read(exp, amp_det)\n",
    "        ff_ccd = get_data_as_read(ccd, amp_ccd)\n",
    "\n",
    "        diff_i = ff_det['imaging'] - ff_ccd['imaging']\n",
    "        if (np.abs(diff_i) > 0).any():\n",
    "            print(\"Failed %s imaging for amp %i\" % (vendor, amp_det))\n",
    "            nfail += 1\n",
    "\n",
    "        diff_p = ff_det['parallel_overscan'] - ff_ccd['parallel_overscan'][:,:-1]\n",
    "        if (np.abs(diff_p) > 0).any():\n",
    "            print(\"Failed %s parallel overscan for amp %i\" % (vendor, amp_det))\n",
    "            nfail += 1\n",
    "\n",
    "        diff_s = ff_det['serial_overscan'][0:2000] - ff_ccd['serial_overscan'][0:2000]\n",
    "        if (np.abs(diff_s) > 0).any():\n",
    "            print(\"Failed %s parallel overscan for amp %i\" % (vendor, amp_det))\n",
    "            nfail += 1\n",
    "\n",
    "    return nfail              "
   ]
  },
  {
   "cell_type": "code",
   "execution_count": null,
   "metadata": {},
   "outputs": [],
   "source": [
    "# Set the path to the Butler repository and import a Butler\n",
    "butler = get_butler_by_repo('ts8')"
   ]
  },
  {
   "cell_type": "code",
   "execution_count": null,
   "metadata": {},
   "outputs": [],
   "source": [
    "# Get a dataId for the first bias frame for a FE55 run\n",
    "incompleteDataId_itl = dict(run='6106D', imageType='BIAS', testType='FE55', detectorName='S00')\n",
    "incompleteDataId_e2v = dict(run='6006D', imageType='BIAS', testType='FE55', detectorName='S00')\n",
    "ss_itl = butler.subset('raw', '', incompleteDataId_itl)\n",
    "ss_e2v = butler.subset('raw', '', incompleteDataId_e2v)\n",
    "dataId_itl = ss_itl.cache[0]\n",
    "dataId_e2v = ss_e2v.cache[0]"
   ]
  },
  {
   "cell_type": "code",
   "execution_count": null,
   "metadata": {},
   "outputs": [],
   "source": [
    "# Specify the corresponding file\n",
    "fname_itl = butler.get('raw_filename', dataId_itl)[0][0:-3]\n",
    "fname_e2v = butler.get('raw_filename', dataId_e2v)[0][0:-3]"
   ]
  },
  {
   "cell_type": "code",
   "execution_count": null,
   "metadata": {},
   "outputs": [],
   "source": [
    "# Get the data using the Butler, and using MaskedCCD, for both ITL and E2V\n",
    "exp_e2v = get_ccd_from_id(butler, dataId_e2v, [])\n",
    "ccd_e2v = get_ccd_from_id(None, fname_e2v, [])\n",
    "\n",
    "exp_itl = get_ccd_from_id(butler, dataId_itl, [])\n",
    "ccd_itl = get_ccd_from_id(None, fname_itl, [])"
   ]
  },
  {
   "cell_type": "code",
   "execution_count": null,
   "metadata": {},
   "outputs": [],
   "source": [
    "nfail_e2v = test_flips(exp_e2v, ccd_e2v, \"e2v\")\n",
    "nfail_itl = test_flips(exp_itl, ccd_itl, \"itl\")"
   ]
  },
  {
   "cell_type": "code",
   "execution_count": null,
   "metadata": {},
   "outputs": [],
   "source": [
    "if nfail_e2v + nfail_itl == 0:\n",
    "    print(\"Success!\")\n",
    "else:\n",
    "    print(\"Failures: %i e2v, %i itl.\" % (nfail_e2v, nfail_itl) )"
   ]
  },
  {
   "cell_type": "code",
   "execution_count": null,
   "metadata": {},
   "outputs": [],
   "source": []
  }
 ],
 "metadata": {
  "kernelspec": {
   "display_name": "LSST",
   "language": "python",
   "name": "lsst"
  },
  "language_info": {
   "codemirror_mode": {
    "name": "ipython",
    "version": 3
   },
   "file_extension": ".py",
   "mimetype": "text/x-python",
   "name": "python",
   "nbconvert_exporter": "python",
   "pygments_lexer": "ipython3",
   "version": "3.7.2"
  }
 },
 "nbformat": 4,
 "nbformat_minor": 2
}
