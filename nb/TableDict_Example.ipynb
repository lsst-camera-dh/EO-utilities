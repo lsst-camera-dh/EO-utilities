{
 "cells": [
  {
   "cell_type": "markdown",
   "metadata": {},
   "source": [
    "#### TableDict example notebook\n",
    "\n",
    "This is a very simple notebook to demonstrate how to use the lsst.eo_utils.base.TableDict class to:\n",
    "* build astropy Table objects from numerical data\n",
    "* write those Table objects to a FITS file\n",
    "* read back the FITS file and access the stored Table objects\n"
   ]
  },
  {
   "cell_type": "markdown",
   "metadata": {},
   "source": [
    "Import stuff"
   ]
  },
  {
   "cell_type": "code",
   "execution_count": 18,
   "metadata": {},
   "outputs": [],
   "source": [
    "import numpy as np\n",
    "from lsst.eo_utils.base import TableDict"
   ]
  },
  {
   "cell_type": "markdown",
   "metadata": {},
   "source": [
    "Build an empty TableDict object"
   ]
  },
  {
   "cell_type": "code",
   "execution_count": 19,
   "metadata": {},
   "outputs": [],
   "source": [
    "td = TableDict()"
   ]
  },
  {
   "cell_type": "markdown",
   "metadata": {},
   "source": [
    "Generate some simple data for this example"
   ]
  },
  {
   "cell_type": "code",
   "execution_count": 20,
   "metadata": {},
   "outputs": [],
   "source": [
    "v1 = np.linspace(0, 100., 21)\n",
    "v2 = v1*v1"
   ]
  },
  {
   "cell_type": "markdown",
   "metadata": {},
   "source": [
    "Put the data into a python dictionary"
   ]
  },
  {
   "cell_type": "code",
   "execution_count": 23,
   "metadata": {},
   "outputs": [],
   "source": [
    "data = dict(vect=v1, vect_sq=v2)"
   ]
  },
  {
   "cell_type": "markdown",
   "metadata": {},
   "source": [
    "Build an `astropy.table.Table` object from the python dictionary and store in under the key `dummy`"
   ]
  },
  {
   "cell_type": "code",
   "execution_count": 24,
   "metadata": {},
   "outputs": [
    {
     "data": {
      "text/html": [
       "<i>Table length=21</i>\n",
       "<table id=\"table140406023349752\" class=\"table-striped table-bordered table-condensed\">\n",
       "<thead><tr><th>vect</th><th>vect_sq</th></tr></thead>\n",
       "<thead><tr><th>float64</th><th>float64</th></tr></thead>\n",
       "<tr><td>0.0</td><td>0.0</td></tr>\n",
       "<tr><td>5.0</td><td>25.0</td></tr>\n",
       "<tr><td>10.0</td><td>100.0</td></tr>\n",
       "<tr><td>15.0</td><td>225.0</td></tr>\n",
       "<tr><td>20.0</td><td>400.0</td></tr>\n",
       "<tr><td>25.0</td><td>625.0</td></tr>\n",
       "<tr><td>30.0</td><td>900.0</td></tr>\n",
       "<tr><td>35.0</td><td>1225.0</td></tr>\n",
       "<tr><td>40.0</td><td>1600.0</td></tr>\n",
       "<tr><td>45.0</td><td>2025.0</td></tr>\n",
       "<tr><td>50.0</td><td>2500.0</td></tr>\n",
       "<tr><td>55.0</td><td>3025.0</td></tr>\n",
       "<tr><td>60.0</td><td>3600.0</td></tr>\n",
       "<tr><td>65.0</td><td>4225.0</td></tr>\n",
       "<tr><td>70.0</td><td>4900.0</td></tr>\n",
       "<tr><td>75.0</td><td>5625.0</td></tr>\n",
       "<tr><td>80.0</td><td>6400.0</td></tr>\n",
       "<tr><td>85.0</td><td>7225.0</td></tr>\n",
       "<tr><td>90.0</td><td>8100.0</td></tr>\n",
       "<tr><td>95.0</td><td>9025.0</td></tr>\n",
       "<tr><td>100.0</td><td>10000.0</td></tr>\n",
       "</table>"
      ],
      "text/plain": [
       "<Table length=21>\n",
       "  vect  vect_sq\n",
       "float64 float64\n",
       "------- -------\n",
       "    0.0     0.0\n",
       "    5.0    25.0\n",
       "   10.0   100.0\n",
       "   15.0   225.0\n",
       "   20.0   400.0\n",
       "   25.0   625.0\n",
       "   30.0   900.0\n",
       "   35.0  1225.0\n",
       "   40.0  1600.0\n",
       "   45.0  2025.0\n",
       "   50.0  2500.0\n",
       "   55.0  3025.0\n",
       "   60.0  3600.0\n",
       "   65.0  4225.0\n",
       "   70.0  4900.0\n",
       "   75.0  5625.0\n",
       "   80.0  6400.0\n",
       "   85.0  7225.0\n",
       "   90.0  8100.0\n",
       "   95.0  9025.0\n",
       "  100.0 10000.0"
      ]
     },
     "execution_count": 24,
     "metadata": {},
     "output_type": "execute_result"
    }
   ],
   "source": [
    "td.make_datatable(\"dummy\", data)"
   ]
  },
  {
   "cell_type": "markdown",
   "metadata": {},
   "source": [
    "Get the table using the key it was stored under"
   ]
  },
  {
   "cell_type": "code",
   "execution_count": 25,
   "metadata": {},
   "outputs": [],
   "source": [
    "table = td['dummy']"
   ]
  },
  {
   "cell_type": "markdown",
   "metadata": {},
   "source": [
    "Get a couple of columns out of the table"
   ]
  },
  {
   "cell_type": "code",
   "execution_count": 26,
   "metadata": {},
   "outputs": [
    {
     "data": {
      "text/html": [
       "&lt;Column name=&apos;vect&apos; dtype=&apos;float64&apos; length=21&gt;\n",
       "<table>\n",
       "<tr><td>0.0</td></tr>\n",
       "<tr><td>5.0</td></tr>\n",
       "<tr><td>10.0</td></tr>\n",
       "<tr><td>15.0</td></tr>\n",
       "<tr><td>20.0</td></tr>\n",
       "<tr><td>25.0</td></tr>\n",
       "<tr><td>30.0</td></tr>\n",
       "<tr><td>35.0</td></tr>\n",
       "<tr><td>40.0</td></tr>\n",
       "<tr><td>45.0</td></tr>\n",
       "<tr><td>50.0</td></tr>\n",
       "<tr><td>55.0</td></tr>\n",
       "<tr><td>60.0</td></tr>\n",
       "<tr><td>65.0</td></tr>\n",
       "<tr><td>70.0</td></tr>\n",
       "<tr><td>75.0</td></tr>\n",
       "<tr><td>80.0</td></tr>\n",
       "<tr><td>85.0</td></tr>\n",
       "<tr><td>90.0</td></tr>\n",
       "<tr><td>95.0</td></tr>\n",
       "<tr><td>100.0</td></tr>\n",
       "</table>"
      ],
      "text/plain": [
       "<Column name='vect' dtype='float64' length=21>\n",
       "  0.0\n",
       "  5.0\n",
       " 10.0\n",
       " 15.0\n",
       " 20.0\n",
       " 25.0\n",
       " 30.0\n",
       " 35.0\n",
       " 40.0\n",
       " 45.0\n",
       " 50.0\n",
       " 55.0\n",
       " 60.0\n",
       " 65.0\n",
       " 70.0\n",
       " 75.0\n",
       " 80.0\n",
       " 85.0\n",
       " 90.0\n",
       " 95.0\n",
       "100.0"
      ]
     },
     "execution_count": 26,
     "metadata": {},
     "output_type": "execute_result"
    }
   ],
   "source": [
    "table['vect']"
   ]
  },
  {
   "cell_type": "code",
   "execution_count": 27,
   "metadata": {},
   "outputs": [
    {
     "data": {
      "text/html": [
       "&lt;Column name=&apos;vect_sq&apos; dtype=&apos;float64&apos; length=21&gt;\n",
       "<table>\n",
       "<tr><td>0.0</td></tr>\n",
       "<tr><td>25.0</td></tr>\n",
       "<tr><td>100.0</td></tr>\n",
       "<tr><td>225.0</td></tr>\n",
       "<tr><td>400.0</td></tr>\n",
       "<tr><td>625.0</td></tr>\n",
       "<tr><td>900.0</td></tr>\n",
       "<tr><td>1225.0</td></tr>\n",
       "<tr><td>1600.0</td></tr>\n",
       "<tr><td>2025.0</td></tr>\n",
       "<tr><td>2500.0</td></tr>\n",
       "<tr><td>3025.0</td></tr>\n",
       "<tr><td>3600.0</td></tr>\n",
       "<tr><td>4225.0</td></tr>\n",
       "<tr><td>4900.0</td></tr>\n",
       "<tr><td>5625.0</td></tr>\n",
       "<tr><td>6400.0</td></tr>\n",
       "<tr><td>7225.0</td></tr>\n",
       "<tr><td>8100.0</td></tr>\n",
       "<tr><td>9025.0</td></tr>\n",
       "<tr><td>10000.0</td></tr>\n",
       "</table>"
      ],
      "text/plain": [
       "<Column name='vect_sq' dtype='float64' length=21>\n",
       "    0.0\n",
       "   25.0\n",
       "  100.0\n",
       "  225.0\n",
       "  400.0\n",
       "  625.0\n",
       "  900.0\n",
       " 1225.0\n",
       " 1600.0\n",
       " 2025.0\n",
       " 2500.0\n",
       " 3025.0\n",
       " 3600.0\n",
       " 4225.0\n",
       " 4900.0\n",
       " 5625.0\n",
       " 6400.0\n",
       " 7225.0\n",
       " 8100.0\n",
       " 9025.0\n",
       "10000.0"
      ]
     },
     "execution_count": 27,
     "metadata": {},
     "output_type": "execute_result"
    }
   ],
   "source": [
    "table['vect_sq']"
   ]
  },
  {
   "cell_type": "markdown",
   "metadata": {},
   "source": [
    "Build a mask and use it"
   ]
  },
  {
   "cell_type": "code",
   "execution_count": 28,
   "metadata": {},
   "outputs": [
    {
     "data": {
      "text/html": [
       "&lt;Column name=&apos;vect_sq&apos; dtype=&apos;float64&apos; length=2&gt;\n",
       "<table>\n",
       "<tr><td>0.0</td></tr>\n",
       "<tr><td>25.0</td></tr>\n",
       "</table>"
      ],
      "text/plain": [
       "<Column name='vect_sq' dtype='float64' length=2>\n",
       " 0.0\n",
       "25.0"
      ]
     },
     "execution_count": 28,
     "metadata": {},
     "output_type": "execute_result"
    }
   ],
   "source": [
    "mask = table['vect'] < 10.\n",
    "table[mask]['vect_sq']"
   ]
  },
  {
   "cell_type": "markdown",
   "metadata": {},
   "source": [
    "Save all the tables (in this case just the one) in this TableDict"
   ]
  },
  {
   "cell_type": "code",
   "execution_count": 29,
   "metadata": {},
   "outputs": [],
   "source": [
    "td.save_datatables(\"table_dict_example.fits\")"
   ]
  },
  {
   "cell_type": "markdown",
   "metadata": {},
   "source": [
    "Read back the TableDict we just saved"
   ]
  },
  {
   "cell_type": "code",
   "execution_count": 30,
   "metadata": {},
   "outputs": [],
   "source": [
    "td2 = TableDict('table_dict_example.fits')"
   ]
  },
  {
   "cell_type": "markdown",
   "metadata": {},
   "source": [
    "Get the table back using the key"
   ]
  },
  {
   "cell_type": "code",
   "execution_count": 31,
   "metadata": {},
   "outputs": [],
   "source": [
    "tab2 = td2['dummy']"
   ]
  },
  {
   "cell_type": "code",
   "execution_count": 32,
   "metadata": {},
   "outputs": [
    {
     "data": {
      "text/html": [
       "<i>Table length=21</i>\n",
       "<table id=\"table140406023427240\" class=\"table-striped table-bordered table-condensed\">\n",
       "<thead><tr><th>vect</th><th>vect_sq</th></tr></thead>\n",
       "<thead><tr><th>float64</th><th>float64</th></tr></thead>\n",
       "<tr><td>0.0</td><td>0.0</td></tr>\n",
       "<tr><td>5.0</td><td>25.0</td></tr>\n",
       "<tr><td>10.0</td><td>100.0</td></tr>\n",
       "<tr><td>15.0</td><td>225.0</td></tr>\n",
       "<tr><td>20.0</td><td>400.0</td></tr>\n",
       "<tr><td>25.0</td><td>625.0</td></tr>\n",
       "<tr><td>30.0</td><td>900.0</td></tr>\n",
       "<tr><td>35.0</td><td>1225.0</td></tr>\n",
       "<tr><td>40.0</td><td>1600.0</td></tr>\n",
       "<tr><td>45.0</td><td>2025.0</td></tr>\n",
       "<tr><td>50.0</td><td>2500.0</td></tr>\n",
       "<tr><td>55.0</td><td>3025.0</td></tr>\n",
       "<tr><td>60.0</td><td>3600.0</td></tr>\n",
       "<tr><td>65.0</td><td>4225.0</td></tr>\n",
       "<tr><td>70.0</td><td>4900.0</td></tr>\n",
       "<tr><td>75.0</td><td>5625.0</td></tr>\n",
       "<tr><td>80.0</td><td>6400.0</td></tr>\n",
       "<tr><td>85.0</td><td>7225.0</td></tr>\n",
       "<tr><td>90.0</td><td>8100.0</td></tr>\n",
       "<tr><td>95.0</td><td>9025.0</td></tr>\n",
       "<tr><td>100.0</td><td>10000.0</td></tr>\n",
       "</table>"
      ],
      "text/plain": [
       "<Table length=21>\n",
       "  vect  vect_sq\n",
       "float64 float64\n",
       "------- -------\n",
       "    0.0     0.0\n",
       "    5.0    25.0\n",
       "   10.0   100.0\n",
       "   15.0   225.0\n",
       "   20.0   400.0\n",
       "   25.0   625.0\n",
       "   30.0   900.0\n",
       "   35.0  1225.0\n",
       "   40.0  1600.0\n",
       "   45.0  2025.0\n",
       "   50.0  2500.0\n",
       "   55.0  3025.0\n",
       "   60.0  3600.0\n",
       "   65.0  4225.0\n",
       "   70.0  4900.0\n",
       "   75.0  5625.0\n",
       "   80.0  6400.0\n",
       "   85.0  7225.0\n",
       "   90.0  8100.0\n",
       "   95.0  9025.0\n",
       "  100.0 10000.0"
      ]
     },
     "execution_count": 32,
     "metadata": {},
     "output_type": "execute_result"
    }
   ],
   "source": [
    "tab2"
   ]
  }
 ],
 "metadata": {
  "kernelspec": {
   "display_name": "Python [conda env:lsst-scipipe-1172c30] *",
   "language": "python",
   "name": "conda-env-lsst-scipipe-1172c30-py"
  },
  "language_info": {
   "codemirror_mode": {
    "name": "ipython",
    "version": 3
   },
   "file_extension": ".py",
   "mimetype": "text/x-python",
   "name": "python",
   "nbconvert_exporter": "python",
   "pygments_lexer": "ipython3",
   "version": "3.7.2"
  }
 },
 "nbformat": 4,
 "nbformat_minor": 2
}
