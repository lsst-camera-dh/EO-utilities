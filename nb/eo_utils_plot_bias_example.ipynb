{
 "cells": [
  {
   "cell_type": "code",
   "execution_count": null,
   "metadata": {
    "scrolled": true
   },
   "outputs": [],
   "source": [
    "%pylab inline"
   ]
  },
  {
   "cell_type": "code",
   "execution_count": null,
   "metadata": {},
   "outputs": [],
   "source": [
    "from lsst.eo_utils.base.butler_utils import get_butler_by_repo\n",
    "\n",
    "from lsst.eo_utils.base.image_utils import get_ccd_from_id,\\\n",
    "    get_amp_list,\\\n",
    "    get_dimension_arrays_from_ccd, get_image_frames_2d,\\\n",
    "    get_geom_regions, get_raw_image\n",
    "\n",
    "from lsst.eo_utils.base.plot_utils import FigureDict\n",
    "\n",
    "import lsst.eotest.image_utils as imutil\n",
    "\n",
    "import matplotlib.pyplot as plt"
   ]
  },
  {
   "cell_type": "code",
   "execution_count": null,
   "metadata": {},
   "outputs": [],
   "source": [
    "def get_bias_image(ccd, amp, bias_method):\n",
    "    \"\"\"Construct the bias image for one amp\n",
    "\n",
    "    @param butler (Butler)   The data butler\n",
    "    @param ccd (MaskedCCD)   The ccd object\n",
    "    @param amp (int)         Amplifier index\n",
    "    @param bias_method (str) \n",
    "    \n",
    "    @returns (tuple)\n",
    "       bim (ImageF)          The bias image\n",
    "       regions (dict)        Dictionary with region boxes\n",
    "    \"\"\"\n",
    "    regions = get_geom_regions(ccd, amp)\n",
    "    serial_oscan = regions['serial_overscan']\n",
    "    im = get_raw_image(ccd, amp)\n",
    "    bim = imutil.bias_image(im, serial_oscan, bias_method=bias_method)\n",
    "    return bim, regions"
   ]
  },
  {
   "cell_type": "code",
   "execution_count": null,
   "metadata": {},
   "outputs": [],
   "source": [
    "def plot_bias_v_row(butler, ccd, figs, bias_type):\n",
    "    \"\"\"Plot the bias versus row for all the amps on a ccd\n",
    "\n",
    "    @param butler (Butler)   The data butler\n",
    "    @param ccd (MaskedCCD)   The ccd object\n",
    "    @param figs (FigureDict) Figure bookkeeping object\n",
    "    @param bias_type (str)   Method used to compute bias\n",
    "    \"\"\"\n",
    "\n",
    "    # Get the list of amp indices\n",
    "    amps = get_amp_list(ccd)\n",
    "\n",
    "    # Get the dimensions for making the plot \n",
    "    # in this case the rows in the serial overscan region    \n",
    "    x_arrays = get_dimension_arrays_from_ccd(ccd)\n",
    "    x_array = x_arrays['row_s']\n",
    "\n",
    "    # Loop on the amps\n",
    "    for i, amp in enumerate(amps):\n",
    "        # Get the bias image for each version\n",
    "        bim, regions = get_bias_image(ccd, amp, bias_type)\n",
    "        s_oscan = regions['serial_overscan']\n",
    "        \n",
    "        # Get the row-by-row means\n",
    "        # account of the readout order, in this case \n",
    "        # we want to account for the step direction in x \n",
    "        # changing\n",
    "        step = regions['step_x']\n",
    "        bim_row_mean = bim[s_oscan].getArray().mean(1)[::step]\n",
    "    \n",
    "        # Add a plot of the row-by-row means versus row number to the figure \"val\"\n",
    "        # in the ith slot\n",
    "        figs.plot(\"val\", i, x_array[0:len(bim_row_mean)], bim_row_mean)"
   ]
  },
  {
   "cell_type": "code",
   "execution_count": null,
   "metadata": {},
   "outputs": [],
   "source": [
    "# Set the path to the Butler repository and import a Butler\n",
    "butler = get_butler_by_repo('ts8')"
   ]
  },
  {
   "cell_type": "code",
   "execution_count": null,
   "metadata": {},
   "outputs": [],
   "source": [
    "# Get a dataId for the first bias frame for a FE55 run\n",
    "incompleteDataId = dict(run='6006D', imageType='BIAS', testType='FE55', detectorName='S00')\n",
    "ss = butler.subset('raw', '', incompleteDataId)\n",
    "dataId = ss.cache[0]\n",
    "\n",
    "# Specify the corresponding file\n",
    "fname = butler.get('raw_filename', dataId)[0][0:-3]"
   ]
  },
  {
   "cell_type": "code",
   "execution_count": null,
   "metadata": {},
   "outputs": [],
   "source": [
    "# Get the data using the Butler, and using MaskedCCD\n",
    "exp = get_ccd_from_id(butler, ss.cache[0], [])\n",
    "ccd = get_ccd_from_id(None, fname, [])"
   ]
  },
  {
   "cell_type": "code",
   "execution_count": null,
   "metadata": {
    "scrolled": false
   },
   "outputs": [],
   "source": [
    "# Setup a place to store the figures\n",
    "figs = FigureDict()\n",
    "# This will add a single 4x4 array of figures, under the key \"val\"\n",
    "figs.setup_amp_plots_grid(\"val\", title=\"Bias by row\", xlabel=\"row\", ylabel=\"Magnitude [ADU]\")\n",
    "\n",
    "# specify how to make the bias image\n",
    "bias_type = 'spline'\n",
    "\n",
    "# make the plots for both versions\n",
    "plot_bias_v_row(butler, exp, figs, bias_type)\n",
    "plot_bias_v_row(None, ccd, figs, bias_type)"
   ]
  },
  {
   "cell_type": "code",
   "execution_count": null,
   "metadata": {},
   "outputs": [],
   "source": [
    "plt.show()"
   ]
  },
  {
   "cell_type": "code",
   "execution_count": null,
   "metadata": {},
   "outputs": [],
   "source": []
  }
 ],
 "metadata": {
  "kernelspec": {
   "display_name": "LSST",
   "language": "python",
   "name": "lsst"
  },
  "language_info": {
   "codemirror_mode": {
    "name": "ipython",
    "version": 3
   },
   "file_extension": ".py",
   "mimetype": "text/x-python",
   "name": "python",
   "nbconvert_exporter": "python",
   "pygments_lexer": "ipython3",
   "version": "3.7.2"
  }
 },
 "nbformat": 4,
 "nbformat_minor": 2
}
