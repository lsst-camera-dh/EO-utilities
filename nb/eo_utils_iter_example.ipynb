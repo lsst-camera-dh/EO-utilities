{
 "cells": [
  {
   "cell_type": "code",
   "execution_count": null,
   "metadata": {},
   "outputs": [],
   "source": [
    "%pylab inline\n",
    "plt.ion()"
   ]
  },
  {
   "cell_type": "code",
   "execution_count": null,
   "metadata": {},
   "outputs": [],
   "source": [
    "from lsst.eo_utils.base.config_utils import get_config_values\n",
    "from lsst.eo_utils.bias.analysis import BiasAnalysisBySlot, make_bias_v_row_slot"
   ]
  },
  {
   "cell_type": "code",
   "execution_count": null,
   "metadata": {},
   "outputs": [],
   "source": [
    "# This is the list of arguments to get from the default configuration\n",
    "argnames = ['run', 'rafts', 'slots', 'bias', 'mask', 'butler_repo', 'outdir', 'nfiles']\n",
    "\n",
    "# Here we are getting the default values, and updating run, butler_repo and bias\n",
    "arg_dict = get_config_values(argnames, run='6106D', butler_repo='TS8', bias='spline', nfiles=2, plot=True)\n",
    "\n",
    "# Lets only analyze the darks\n",
    "arg_dict['acq_types'] = ['DARK']"
   ]
  },
  {
   "cell_type": "code",
   "execution_count": null,
   "metadata": {},
   "outputs": [],
   "source": [
    "# The run number is special, so we pull that out\n",
    "#run_num = arg_dict.pop('run')"
   ]
  },
  {
   "cell_type": "code",
   "execution_count": null,
   "metadata": {},
   "outputs": [],
   "source": [
    "print(arg_dict)"
   ]
  },
  {
   "cell_type": "code",
   "execution_count": null,
   "metadata": {},
   "outputs": [],
   "source": [
    "# make_bias_v_row_slot is a function that look like:\n",
    "# def make_bias_v_row_slot(butler, slot_data, **kwargs)\n",
    "#\n",
    "# Passing this function to a BiasAnalysisBySlot object will\n",
    "# connect it to the function that loop over slots and \n",
    "# get the bias files for each for for the given run\n",
    "driver = BiasAnalysisBySlot(make_bias_v_row_slot, argnames)"
   ]
  },
  {
   "cell_type": "code",
   "execution_count": null,
   "metadata": {
    "scrolled": true
   },
   "outputs": [],
   "source": [
    "# Use the driver to run over all the slots,\n",
    "driver.run(interactive=True, **arg_dict)"
   ]
  },
  {
   "cell_type": "code",
   "execution_count": null,
   "metadata": {},
   "outputs": [],
   "source": [
    "# That last line is equivalent to the code below\n",
    "\n",
    "# Get the butler\n",
    "butler = driver.get_butler(arg_dict['butler_repo'])\n",
    "\n",
    "# Get the run number\n",
    "run_num = arg_dict['run']\n",
    "\n",
    "# We will need the raft name\n",
    "htype, raft = driver.get_hardware(butler, run_num)\n",
    "# This is a dictionary of dataIds, sorted by slot and imageType\n",
    "data = driver.get_data(butler, run_num, **arg_dict)[raft]\n",
    "# Loop over the slots and run the analysis function\n",
    "for slot, slotData in data.items():\n",
    "    make_bias_v_row_slot(butler, slotData, run_num=run_num, slot=slot, raft=raft, **arg_dict)"
   ]
  },
  {
   "cell_type": "code",
   "execution_count": null,
   "metadata": {},
   "outputs": [],
   "source": []
  },
  {
   "cell_type": "code",
   "execution_count": null,
   "metadata": {},
   "outputs": [],
   "source": []
  }
 ],
 "metadata": {
  "kernelspec": {
   "display_name": "Python 3",
   "language": "python",
   "name": "python3"
  },
  "language_info": {
   "codemirror_mode": {
    "name": "ipython",
    "version": 3
   },
   "file_extension": ".py",
   "mimetype": "text/x-python",
   "name": "python",
   "nbconvert_exporter": "python",
   "pygments_lexer": "ipython3",
   "version": "3.6.6"
  }
 },
 "nbformat": 4,
 "nbformat_minor": 2
}
