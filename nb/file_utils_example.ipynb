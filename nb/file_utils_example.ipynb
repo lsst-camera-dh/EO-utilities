{
 "cells": [
  {
   "cell_type": "markdown",
   "metadata": {},
   "source": [
    "#### File Utils example notebook\n",
    "\n",
    "This is a simple notebook to demonstrate how to use the lsst.eo_utils.base.file_utils functions to:\n",
    "* Get the hardware type and id for a particular run\n",
    "* Get the data from a particular run\n",
    "* Use the formatter objects to get the output data from a particular eo_utils analysis"
   ]
  },
  {
   "cell_type": "markdown",
   "metadata": {},
   "source": [
    "Import stuff"
   ]
  },
  {
   "cell_type": "code",
   "execution_count": null,
   "metadata": {},
   "outputs": [],
   "source": [
    "from lsst.eo_utils.base import file_utils\n",
    "from lsst.eo_utils.base.defaults import DATACAT_TS8_TEST_TYPES"
   ]
  },
  {
   "cell_type": "markdown",
   "metadata": {},
   "source": [
    "For this example we use run '6106D' which is a TS8 run with RTM-004"
   ]
  },
  {
   "cell_type": "code",
   "execution_count": null,
   "metadata": {},
   "outputs": [],
   "source": [
    "run = '6106D'"
   ]
  },
  {
   "cell_type": "code",
   "execution_count": null,
   "metadata": {},
   "outputs": [],
   "source": [
    "file_utils.get_hardware_type_and_id(run)"
   ]
  },
  {
   "cell_type": "code",
   "execution_count": null,
   "metadata": {},
   "outputs": [],
   "source": [
    "file_utils.get_raft_names_dc(run)"
   ]
  },
  {
   "cell_type": "markdown",
   "metadata": {},
   "source": [
    "##### Using 'get_files_for_run' function\n",
    "\n",
    "Here we are going to ask for all the bias data from that run.\n",
    "testtypes=DATACAT_TS8_TEST_TYPES specifies the list of test types we have\n",
    "imagetype='bias' specifies that we want bias images\n",
    "outkey='BIAS' specifies where in the output dictionary the files go"
   ]
  },
  {
   "cell_type": "code",
   "execution_count": null,
   "metadata": {},
   "outputs": [],
   "source": [
    "data = file_utils.get_files_for_run(run, testtypes=DATACAT_TS8_TEST_TYPES, imagetype='bias', outkey='BIAS')"
   ]
  },
  {
   "cell_type": "code",
   "execution_count": null,
   "metadata": {},
   "outputs": [],
   "source": [
    "data.keys()"
   ]
  },
  {
   "cell_type": "code",
   "execution_count": null,
   "metadata": {},
   "outputs": [],
   "source": [
    "data['RTM-004'].keys()"
   ]
  },
  {
   "cell_type": "code",
   "execution_count": null,
   "metadata": {},
   "outputs": [],
   "source": [
    "data['RTM-004']['S00'].keys()"
   ]
  },
  {
   "cell_type": "code",
   "execution_count": null,
   "metadata": {},
   "outputs": [],
   "source": [
    "bias_files = data['RTM-004']['S00']['BIAS']"
   ]
  },
  {
   "cell_type": "code",
   "execution_count": null,
   "metadata": {},
   "outputs": [],
   "source": [
    "len(bias_files)"
   ]
  },
  {
   "cell_type": "code",
   "execution_count": null,
   "metadata": {},
   "outputs": [],
   "source": [
    "bias_files[0]"
   ]
  },
  {
   "cell_type": "markdown",
   "metadata": {},
   "source": [
    "##### Using formatter objects\n",
    "\n",
    "This tells us how to construct the name of output files"
   ]
  },
  {
   "cell_type": "code",
   "execution_count": null,
   "metadata": {},
   "outputs": [],
   "source": [
    "file_utils.SLOT_FORMAT_STRING"
   ]
  },
  {
   "cell_type": "markdown",
   "metadata": {},
   "source": [
    "This is the object that does the formatting"
   ]
  },
  {
   "cell_type": "code",
   "execution_count": null,
   "metadata": {},
   "outputs": [],
   "source": [
    "file_utils.SLOT_BASE_FORMATTER"
   ]
  },
  {
   "cell_type": "markdown",
   "metadata": {},
   "source": [
    "We can ask the object for the names of the keys it uses to construct file names"
   ]
  },
  {
   "cell_type": "code",
   "execution_count": null,
   "metadata": {},
   "outputs": [],
   "source": [
    "file_utils.SLOT_BASE_FORMATTER.key_dict()"
   ]
  },
  {
   "cell_type": "markdown",
   "metadata": {},
   "source": [
    "We can pass those keys to the object to get back a fulled formed filename"
   ]
  },
  {
   "cell_type": "code",
   "execution_count": null,
   "metadata": {},
   "outputs": [],
   "source": [
    "key_dict = dict(outdir=\"analysis/ts8\",\n",
    "                testType='bias',\n",
    "                fileType='table',\n",
    "                raft='RTM-004',\n",
    "                run=run,\n",
    "                slot='S00',\n",
    "                suffix=\"biasfft.fits\")\n",
    "file_utils.SLOT_BASE_FORMATTER(**key_dict)"
   ]
  },
  {
   "cell_type": "code",
   "execution_count": null,
   "metadata": {},
   "outputs": [],
   "source": [
    "key_dict = dict(outdir='analysis/ts8',\n",
    "                bias='spline')\n",
    "file_utils.get_run_files_from_formatter(run, file_utils.SUPERBIAS_FORMATTER, **key_dict)"
   ]
  }
 ],
 "metadata": {
  "kernelspec": {
   "display_name": "Python [conda env:lsst-scipipe-1172c30] *",
   "language": "python",
   "name": "conda-env-lsst-scipipe-1172c30-py"
  },
  "language_info": {
   "codemirror_mode": {
    "name": "ipython",
    "version": 3
   },
   "file_extension": ".py",
   "mimetype": "text/x-python",
   "name": "python",
   "nbconvert_exporter": "python",
   "pygments_lexer": "ipython3",
   "version": "3.7.2"
  }
 },
 "nbformat": 4,
 "nbformat_minor": 2
}
