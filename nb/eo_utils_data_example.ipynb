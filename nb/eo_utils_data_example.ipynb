{
 "cells": [
  {
   "cell_type": "code",
   "execution_count": null,
   "metadata": {},
   "outputs": [],
   "source": [
    "from lsst.eo_utils.base.butler_utils import get_butler_by_repo\n",
    "\n",
    "from lsst.eo_utils.base.image_utils import get_ccd_from_id,\\\n",
    "    get_amp_list, get_data_as_read\n",
    "\n",
    "import lsst.eotest.image_utils as imutil"
   ]
  },
  {
   "cell_type": "code",
   "execution_count": null,
   "metadata": {},
   "outputs": [],
   "source": [
    "# Set the path to the Butler repository and import a Butler\n",
    "butler = get_butler_by_repo('ts8')"
   ]
  },
  {
   "cell_type": "code",
   "execution_count": null,
   "metadata": {},
   "outputs": [],
   "source": [
    "# Get a dataId for the first bias frame for a FE55 run\n",
    "incompleteDataId = dict(run='6006D', imageType='BIAS', testType='FE55', detectorName='S00')\n",
    "ss = butler.subset('raw', '', incompleteDataId)\n",
    "dataId = ss.cache[0]"
   ]
  },
  {
   "cell_type": "code",
   "execution_count": null,
   "metadata": {},
   "outputs": [],
   "source": [
    "# Specify the corresponding file\n",
    "fname = butler.get('raw_filename', ss.cache[0])[0][0:-3]"
   ]
  },
  {
   "cell_type": "code",
   "execution_count": null,
   "metadata": {},
   "outputs": [],
   "source": [
    "# Get the data using the Butler, and using MaskedCCD\n",
    "exp = get_ccd_from_id(butler, ss.cache[0], [])\n",
    "ccd = get_ccd_from_id(None, fname, [])"
   ]
  },
  {
   "cell_type": "code",
   "execution_count": null,
   "metadata": {},
   "outputs": [],
   "source": [
    "# Get the list of amplifier indexes, \n",
    "# Note that this number starts at 0 in butler and and 1 in MaskedCCD\n",
    "amps_det = get_amp_list(exp)\n",
    "amps_ccd = get_amp_list(ccd)"
   ]
  },
  {
   "cell_type": "code",
   "execution_count": null,
   "metadata": {},
   "outputs": [],
   "source": [
    "# Get the data for amp 3\n",
    "# This function will return the data as arrays in the readout order,\n",
    "# which is what we generally want for EO testing\n",
    "ff_det = get_data_as_read(exp, amps_det[3], ['imaging'])\n",
    "ff_ccd = get_data_as_read(ccd, amps_ccd[3], ['imaging'])"
   ]
  },
  {
   "cell_type": "code",
   "execution_count": null,
   "metadata": {},
   "outputs": [],
   "source": [
    "# Get the imaging data\n",
    "image_data_det = ff_det['imaging']\n",
    "image_data_ccd = ff_ccd['imaging']"
   ]
  },
  {
   "cell_type": "code",
   "execution_count": null,
   "metadata": {},
   "outputs": [],
   "source": [
    "# Take the mean of the imaging region\n",
    "mean_det = image_data_det.mean()\n",
    "mean_ccd = image_data_ccd.mean()\n",
    "\n",
    "print(\"Compare means: %.2F %.2F\" % (mean_det, mean_ccd))\n"
   ]
  },
  {
   "cell_type": "code",
   "execution_count": null,
   "metadata": {},
   "outputs": [],
   "source": []
  }
 ],
 "metadata": {
  "kernelspec": {
   "display_name": "LSST",
   "language": "python",
   "name": "lsst"
  },
  "language_info": {
   "codemirror_mode": {
    "name": "ipython",
    "version": 3
   },
   "file_extension": ".py",
   "mimetype": "text/x-python",
   "name": "python",
   "nbconvert_exporter": "python",
   "pygments_lexer": "ipython3",
   "version": "3.7.2"
  }
 },
 "nbformat": 4,
 "nbformat_minor": 2
}
