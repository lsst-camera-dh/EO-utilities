{
 "cells": [
  {
   "cell_type": "markdown",
   "metadata": {},
   "source": [
    "#### image_utils example notebook\n",
    "\n",
    "This is a simple notebook to demonstrate how to use the lsst.eo_utils.base.image_utils functions to:\n",
    "* Get the image data from a particular CCD in a way that works for both butler and non-butler data\n",
    "* Get the amplifier indices from the CCD data object for either butler\n",
    "* Extract the data from the CCD data object in readout order for either bulter or non-butler data"
   ]
  },
  {
   "cell_type": "markdown",
   "metadata": {},
   "source": [
    "import stuff"
   ]
  },
  {
   "cell_type": "code",
   "execution_count": 36,
   "metadata": {},
   "outputs": [],
   "source": [
    "import numpy as np\n",
    "from lsst.eo_utils.base import image_utils\n",
    "from lsst.eo_utils.base import butler_utils\n",
    "from lsst.eo_utils.base import file_utils"
   ]
  },
  {
   "cell_type": "raw",
   "metadata": {},
   "source": [
    "Here we get the data id for a particular image for one ccd, using both butler and non-butler data"
   ]
  },
  {
   "cell_type": "code",
   "execution_count": 38,
   "metadata": {},
   "outputs": [],
   "source": [
    "butler = butler_utils.get_butler_by_repo('TS8')\n",
    "run = '6106D'\n",
    "data_b = butler_utils.get_files_butler(butler, run, testtypes=['DARK'], imagetype='BIAS', outkey=\"BIAS\")\n",
    "data_f = file_utils.get_files_for_run(run, testtypes=['dark_raft_acq'], imagetype='bias', outkey='BIAS')\n",
    "dataid_b = data_b['RTM-004']['S00']['BIAS'][0]\n",
    "dataid_f = data_f['RTM-004']['S00']['BIAS'][0]\n",
    "check_filename = butler.get('raw_filename', dataid_b)"
   ]
  },
  {
   "cell_type": "markdown",
   "metadata": {},
   "source": [
    "Here we use the image_utils to get CCD-level data objects for both types of data.\n",
    "Note that the object types are different"
   ]
  },
  {
   "cell_type": "code",
   "execution_count": 40,
   "metadata": {},
   "outputs": [
    {
     "name": "stderr",
     "output_type": "stream",
     "text": [
      "WARNING:lsst.obs.lsst.translators.lsst:Unable to determine dark time. Setting from exposure time.\n"
     ]
    }
   ],
   "source": [
    "ccd_b = image_utils.get_ccd_from_id(butler, dataid_b, [])\n",
    "ccd_f = image_utils.get_ccd_from_id(None, dataid_f, [])"
   ]
  },
  {
   "cell_type": "code",
   "execution_count": 41,
   "metadata": {},
   "outputs": [
    {
     "data": {
      "text/plain": [
       "(lsst.afw.image.exposure.exposure.ExposureF,\n",
       " lsst.eotest.sensor.MaskedCCD.MaskedCCD)"
      ]
     },
     "execution_count": 41,
     "metadata": {},
     "output_type": "execute_result"
    }
   ],
   "source": [
    "type(ccd_b), type(ccd_f)"
   ]
  },
  {
   "cell_type": "markdown",
   "metadata": {},
   "source": [
    "Here we get the list of amps in both cases, not the difference in numbering"
   ]
  },
  {
   "cell_type": "code",
   "execution_count": 42,
   "metadata": {},
   "outputs": [
    {
     "data": {
      "text/plain": [
       "([0, 1, 2, 3, 4, 5, 6, 7, 8, 9, 10, 11, 12, 13, 14, 15],\n",
       " [1, 2, 3, 4, 5, 6, 7, 8, 9, 10, 11, 12, 13, 14, 15, 16])"
      ]
     },
     "execution_count": 42,
     "metadata": {},
     "output_type": "execute_result"
    }
   ],
   "source": [
    "amps_b = image_utils.get_amp_list(ccd_b)\n",
    "amps_f = image_utils.get_amp_list(ccd_f)\n",
    "amps_b, amps_f"
   ]
  },
  {
   "cell_type": "markdown",
   "metadata": {},
   "source": [
    "Here we get the data from both version of the image, in readout order, \n",
    "for the imaging and overscan regions"
   ]
  },
  {
   "cell_type": "code",
   "execution_count": 43,
   "metadata": {},
   "outputs": [],
   "source": [
    "data_b = image_utils.get_data_as_read(ccd_b, 0)\n",
    "data_f = image_utils.get_data_as_read(ccd_f, 1)"
   ]
  },
  {
   "cell_type": "code",
   "execution_count": null,
   "metadata": {},
   "outputs": [],
   "source": [
    "data_b.keys(), data_f.keys()"
   ]
  },
  {
   "cell_type": "markdown",
   "metadata": {},
   "source": [
    "Here we just "
   ]
  },
  {
   "cell_type": "code",
   "execution_count": 46,
   "metadata": {},
   "outputs": [
    {
     "data": {
      "text/plain": [
       "array([[0., 0., 0., ..., 0., 0., 0.],\n",
       "       [0., 0., 0., ..., 0., 0., 0.],\n",
       "       [0., 0., 0., ..., 0., 0., 0.],\n",
       "       ...,\n",
       "       [0., 0., 0., ..., 0., 0., 0.],\n",
       "       [0., 0., 0., ..., 0., 0., 0.],\n",
       "       [0., 0., 0., ..., 0., 0., 0.]], dtype=float32)"
      ]
     },
     "execution_count": 46,
     "metadata": {},
     "output_type": "execute_result"
    }
   ],
   "source": [
    "data_b['imaging'] - data_b['imaging']"
   ]
  },
  {
   "cell_type": "code",
   "execution_count": 49,
   "metadata": {},
   "outputs": [
    {
     "data": {
      "text/plain": [
       "array([[0., 0., 0., ..., 0., 0., 0.],\n",
       "       [0., 0., 0., ..., 0., 0., 0.],\n",
       "       [0., 0., 0., ..., 0., 0., 0.],\n",
       "       ...,\n",
       "       [0., 0., 0., ..., 0., 0., 0.],\n",
       "       [0., 0., 0., ..., 0., 0., 0.],\n",
       "       [0., 0., 0., ..., 0., 0., 0.]], dtype=float32)"
      ]
     },
     "execution_count": 49,
     "metadata": {},
     "output_type": "execute_result"
    }
   ],
   "source": [
    "data_b['serial_overscan'] - data_b['serial_overscan']"
   ]
  },
  {
   "cell_type": "code",
   "execution_count": 50,
   "metadata": {},
   "outputs": [
    {
     "data": {
      "text/plain": [
       "array([[0., 0., 0., ..., 0., 0., 0.],\n",
       "       [0., 0., 0., ..., 0., 0., 0.],\n",
       "       [0., 0., 0., ..., 0., 0., 0.],\n",
       "       ...,\n",
       "       [0., 0., 0., ..., 0., 0., 0.],\n",
       "       [0., 0., 0., ..., 0., 0., 0.],\n",
       "       [0., 0., 0., ..., 0., 0., 0.]], dtype=float32)"
      ]
     },
     "execution_count": 50,
     "metadata": {},
     "output_type": "execute_result"
    }
   ],
   "source": [
    "data_b['parallel_overscan'] - data_b['parallel_overscan']"
   ]
  },
  {
   "cell_type": "code",
   "execution_count": null,
   "metadata": {},
   "outputs": [],
   "source": []
  }
 ],
 "metadata": {
  "kernelspec": {
   "display_name": "Python [conda env:lsst-scipipe-1172c30] *",
   "language": "python",
   "name": "conda-env-lsst-scipipe-1172c30-py"
  },
  "language_info": {
   "codemirror_mode": {
    "name": "ipython",
    "version": 3
   },
   "file_extension": ".py",
   "mimetype": "text/x-python",
   "name": "python",
   "nbconvert_exporter": "python",
   "pygments_lexer": "ipython3",
   "version": "3.7.2"
  }
 },
 "nbformat": 4,
 "nbformat_minor": 2
}
