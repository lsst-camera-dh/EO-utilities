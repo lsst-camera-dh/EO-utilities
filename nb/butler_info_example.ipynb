{
 "cells": [
  {
   "cell_type": "code",
   "execution_count": null,
   "metadata": {},
   "outputs": [],
   "source": [
    "# Import Butler \n",
    "from lsst.eo_utils.base import butler_utils"
   ]
  },
  {
   "cell_type": "code",
   "execution_count": null,
   "metadata": {},
   "outputs": [],
   "source": [
    "# Set the path to the Butler repository and import a Butler\n",
    "butler = butler_utils.get_butler_by_repo('ts8')"
   ]
  },
  {
   "cell_type": "code",
   "execution_count": null,
   "metadata": {},
   "outputs": [],
   "source": [
    "# Make a generic data ID that gets everything about run 6106D\n",
    "dd = dict(run='6106D')"
   ]
  },
  {
   "cell_type": "code",
   "execution_count": null,
   "metadata": {},
   "outputs": [],
   "source": [
    "# Get the list of visits and print its length\n",
    "visits = butler.queryMetadata('raw', 'visit', dd)\n",
    "print(\"Total visits:\", len(visits))"
   ]
  },
  {
   "cell_type": "code",
   "execution_count": null,
   "metadata": {},
   "outputs": [],
   "source": [
    "# Get possible values for some of the metadata\n",
    "# Note that  queryMetadata returns the list of all possible values \n",
    "# for a meta data files for a dataId\n",
    "print(\"Metadata values\")\n",
    "for key in ['raftName', 'detectorName', 'testType', 'imageType']:\n",
    "    vals = butler.queryMetadata('raw', key, dd)\n",
    "    print (\"%20s\" % key, vals)\n",
    "print(\"\\n\\n\")"
   ]
  },
  {
   "cell_type": "code",
   "execution_count": null,
   "metadata": {},
   "outputs": [],
   "source": [
    "# A function to get dataIds and sort them \n",
    "# Note that we are refining the dataId to only \n",
    "# get the possible values for a given testType and imageType\n",
    "def sort_data_ids(run):\n",
    "    dd = dict(run=run)\n",
    "    dataIdDict = {}\n",
    "    slots = butler.queryMetadata('raw', 'detectorName', dd)\n",
    "\n",
    "    for slot in slots:\n",
    "        dd['detectorName'] = slot\n",
    "        t_types = butler.queryMetadata('raw', 'testType', dd)\n",
    "        ttype_dict = {}\n",
    "        for test_type in t_types:\n",
    "            dd['testType'] = test_type\n",
    "            i_types = butler.queryMetadata('raw', 'imageType', dd)\n",
    "            itype_dict = {}\n",
    "            for i_type in i_types:\n",
    "                dd['imageType'] = i_type\n",
    "                ss = butler.subset('raw', '', dd)\n",
    "                itype_dict[i_type] = ss.cache\n",
    "            ttype_dict[test_type] = itype_dict\n",
    "            dd.pop('imageType')\n",
    "        dataIdDict[slot] = ttype_dict\n",
    "\n",
    "    return dataIdDict"
   ]
  },
  {
   "cell_type": "code",
   "execution_count": null,
   "metadata": {},
   "outputs": [],
   "source": [
    "# A function to print how many exposure of each type we have\n",
    "def count_exposures(ddict):\n",
    "    for key, val in ddict.items():\n",
    "        for key2, val2 in val.items():\n",
    "            print(\"Test %s has %i %s exposures\" % (key, len(val2), key2))\n",
    "    print(\"\\n\\n\")"
   ]
  },
  {
   "cell_type": "code",
   "execution_count": null,
   "metadata": {},
   "outputs": [],
   "source": [
    "# A simple function to print and OrderedDict\n",
    "# This is useful to print the FITS header info\n",
    "def print_dict(odict):\n",
    "    for key, val in odict.items():\n",
    "        print(\"%20s : %s\" % (key, val))"
   ]
  },
  {
   "cell_type": "code",
   "execution_count": null,
   "metadata": {},
   "outputs": [],
   "source": [
    "# Ok, lets get some dataIds and print out the counts\n",
    "ddict = sort_data_ids('6106D')\n",
    "count_exposures(ddict['S00'])"
   ]
  },
  {
   "cell_type": "code",
   "execution_count": null,
   "metadata": {},
   "outputs": [],
   "source": [
    "# Get list of dataIds for FLAT testtype and FLAT imagetype\n",
    "flats = ddict['S00']['FLAT']['FLAT']"
   ]
  },
  {
   "cell_type": "code",
   "execution_count": null,
   "metadata": {},
   "outputs": [],
   "source": [
    "# Note that we could also do this\n",
    "dataId = dict(run='6106D', detectorName='S00', testType='FLAT', imageType='FLAT')\n",
    "flats_check = butler.subset('raw', '', dataId).cache\n"
   ]
  },
  {
   "cell_type": "code",
   "execution_count": null,
   "metadata": {},
   "outputs": [],
   "source": [
    "# Get a flat exposure\n",
    "aFlat = butler.get('raw', flats[0])\n",
    "\n",
    "# Now we print out some information for that exposure\n",
    "print(\"Info for one flat exposure\")\n",
    "print(\"  Exposure time %.3fs\" % aFlat.getInfo().getVisitInfo().getExposureTime())\n",
    "print(\"  Filter %s\" % aFlat.getFilter().getName())\n",
    "print(\"  Metadata: \")\n",
    "print_dict(aFlat.getInfo().getMetadata().toOrderedDict())\n"
   ]
  },
  {
   "cell_type": "code",
   "execution_count": null,
   "metadata": {},
   "outputs": [],
   "source": []
  }
 ],
 "metadata": {
  "kernelspec": {
   "display_name": "LSST",
   "language": "python",
   "name": "lsst"
  },
  "language_info": {
   "codemirror_mode": {
    "name": "ipython",
    "version": 3
   },
   "file_extension": ".py",
   "mimetype": "text/x-python",
   "name": "python",
   "nbconvert_exporter": "python",
   "pygments_lexer": "ipython3",
   "version": "3.7.2"
  }
 },
 "nbformat": 4,
 "nbformat_minor": 2
}
